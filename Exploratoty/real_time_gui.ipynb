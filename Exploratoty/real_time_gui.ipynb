{
  "nbformat": 4,
  "nbformat_minor": 0,
  "metadata": {
    "colab": {
      "name": "real_time_gui.ipynb",
      "provenance": [],
      "authorship_tag": "ABX9TyPA8jr2UdWDrrMfYD6w1ae3",
      "include_colab_link": true
    },
    "kernelspec": {
      "name": "python3",
      "display_name": "Python 3"
    }
  },
  "cells": [
    {
      "cell_type": "markdown",
      "metadata": {
        "id": "view-in-github",
        "colab_type": "text"
      },
      "source": [
        "<a href=\"https://colab.research.google.com/github/afms135/signl/blob/master/Exploratoty/real_time_gui.ipynb\" target=\"_parent\"><img src=\"https://colab.research.google.com/assets/colab-badge.svg\" alt=\"Open In Colab\"/></a>"
      ]
    },
    {
      "cell_type": "code",
      "metadata": {
        "id": "OL1Tu2iR3GIq",
        "colab_type": "code",
        "colab": {
          "base_uri": "https://localhost:8080/",
          "height": 282
        },
        "outputId": "2729e31a-6c88-4d50-cbe9-f90c0e173599"
      },
      "source": [
        "import matplotlib.pyplot as plt\n",
        "import numpy as np\n",
        "\n",
        "empty = [[0,0,0,0,0,0,0,0,0,0,0,0,0,0,0,0,0,0,0,0],\n",
        "         [0,0,0,0,0,0,0,0,0,0,0,0,0,0,0,0,0,0,0,0],\n",
        "         [0,0,0,0,0,0,0,0,0,0,0,0,0,0,0,0,0,0,0,0],\n",
        "         [0,0,0,0,0,0,0,0,0,0,0,0,0,0,0,0,0,0,0,0],\n",
        "         [0,0,0,0,0,0,0,0,0,0,0,0,0,0,0,0,0,0,0,0],\n",
        "         [0,0,0,0,0,0,0,0,0,0,0,0,0,0,0,0,0,0,0,0],\n",
        "         [0,0,0,0,0,0,0,0,0,0,0,0,0,0,0,0,0,0,0,0],\n",
        "         [0,0,0,0,0,0,0,0,0,0,0,0,0,0,0,0,0,0,0,0],\n",
        "         [0,0,0,0,0,0,0,0,0,0,0,0,0,0,0,0,0,0,0,0],\n",
        "         [0,0,0,0,0,0,0,0,0,0,0,0,0,0,0,0,0,0,0,0],\n",
        "         [0,0,0,0,0,0,0,0,0,0,0,0,0,0,0,0,0,0,0,0],\n",
        "         [0,0,0,0,0,0,0,0,0,0,0,0,0,0,0,0,0,0,0,0],\n",
        "         [1,1,1,1,1,1,1,1,1,1,1,1,1,1,1,1,1,1,1,1],\n",
        "         [0,0,0,0,0,0,0,0,0,0,0,0,0,0,0,0,0,0,0,0],\n",
        "         [0,0,0,0,0,0,0,0,0,0,0,0,0,0,0,0,0,0,0,0],\n",
        "         [0,0,0,0,0,0,0,0,0,0,0,0,0,0,0,0,0,0,0,0]]\n",
        "\n",
        "plt.imshow(empty)"
      ],
      "execution_count": 43,
      "outputs": [
        {
          "output_type": "execute_result",
          "data": {
            "text/plain": [
              "<matplotlib.image.AxesImage at 0x7f653e7be240>"
            ]
          },
          "metadata": {
            "tags": []
          },
          "execution_count": 43
        },
        {
          "output_type": "display_data",
          "data": {
            "image/png": "[encoded data removed]",
            "text/plain": [
              "<Figure size 432x288 with 1 Axes>"
            ]
          },
          "metadata": {
            "tags": []
          }
        }
      ]
    },
    {
      "cell_type": "code",
      "metadata": {
        "id": "_o3PU71BFcgX",
        "colab_type": "code",
        "colab": {
          "base_uri": "https://localhost:8080/",
          "height": 282
        },
        "outputId": "8c3b176f-d430-4bf3-e676-af7291747ede"
      },
      "source": [
        "amp =   [[0,0,0,0,0,0,0,0,0,0,0,0,0,0,0,0,0,0,0,0],\n",
        "         [0,0,0,0,0,0,0,0,0,0,0,0,0,0,0,0,0,0,0,0],\n",
        "         [0,0,0,0,0,0,0,0,0,0,0,0,0,0,0,0,0,0,0,0],\n",
        "         [0,0,0,0,0,0,0,0,0,0,0,0,0,0,0,0,0,0,0,0],\n",
        "         [0,0,0,1,1,1,1,1,1,1,1,1,1,1,1,1,1,0,0,0],\n",
        "         [0,0,1,0,0,0,0,0,0,0,0,0,0,0,0,0,0,1,0,0],\n",
        "         [0,0,1,0,1,0,1,0,1,0,1,0,0,1,0,1,0,1,0,0],\n",
        "         [0,0,1,0,0,1,0,1,0,1,0,0,1,0,1,0,0,1,0,0],\n",
        "         [0,0,1,0,1,0,1,0,1,0,0,1,0,1,0,1,0,1,0,0],\n",
        "         [0,0,1,0,0,1,0,1,0,0,1,0,1,0,1,0,0,1,0,0],\n",
        "         [0,0,1,0,1,0,1,0,0,1,0,1,0,1,0,1,0,1,0,0],\n",
        "         [0,1,1,0,0,0,0,0,0,0,0,0,0,0,0,0,0,1,1,0],\n",
        "         [1,1,1,0,1,1,0,1,1,0,0,1,1,0,1,1,0,1,1,1],\n",
        "         [0,1,1,0,1,1,0,1,1,0,0,1,1,0,1,1,0,1,1,0],\n",
        "         [0,0,1,0,0,0,0,0,0,0,0,0,0,0,0,0,0,1,0,0],\n",
        "         [0,0,0,1,1,1,1,1,1,1,1,1,1,1,1,1,1,0,0,0]]\n",
        "\n",
        "plt.imshow(amp)"
      ],
      "execution_count": 57,
      "outputs": [
        {
          "output_type": "execute_result",
          "data": {
            "text/plain": [
              "<matplotlib.image.AxesImage at 0x7f653e303a58>"
            ]
          },
          "metadata": {
            "tags": []
          },
          "execution_count": 57
        },
        {
          "output_type": "display_data",
          "data": {
            "image/png": "[encoded data removed]",
            "text/plain": [
              "<Figure size 432x288 with 1 Axes>"
            ]
          },
          "metadata": {
            "tags": []
          }
        }
      ]
    },
    {
      "cell_type": "code",
      "metadata": {
        "id": "tT81nJRzFpeu",
        "colab_type": "code",
        "colab": {
          "base_uri": "https://localhost:8080/",
          "height": 282
        },
        "outputId": "ccb024e3-9b69-4442-a1e5-05dee23ef749"
      },
      "source": [
        "pedal = [[0,0,0,0,0,0,1,1,1,1,1,1,1,1,0,0,0,0,0,0],\n",
        "         [0,0,0,0,0,1,0,0,0,0,0,0,0,0,1,0,0,0,0,0],\n",
        "         [0,0,0,0,0,1,0,1,1,0,0,1,1,0,1,0,0,0,0,0],\n",
        "         [0,0,0,0,0,1,0,1,1,0,0,1,1,0,1,0,0,0,0,0],\n",
        "         [0,0,0,0,0,1,0,0,0,0,0,0,0,0,1,0,0,0,0,0],\n",
        "         [0,0,0,0,0,1,0,1,1,0,0,1,1,0,1,0,0,0,0,0],\n",
        "         [0,0,0,0,0,1,0,1,1,0,0,1,1,0,1,0,0,0,0,0],\n",
        "         [0,0,0,0,0,1,0,0,0,0,0,0,0,0,1,0,0,0,0,0],\n",
        "         [0,0,0,0,0,1,0,0,1,1,1,1,0,0,1,0,0,0,0,0],\n",
        "         [0,0,0,0,0,1,0,1,0,0,0,0,1,0,1,0,0,0,0,0],\n",
        "         [0,0,0,0,0,1,0,1,0,0,0,0,1,0,1,0,0,0,0,0],\n",
        "         [0,0,0,0,1,1,0,1,0,0,0,0,1,0,1,1,0,0,0,0],\n",
        "         [1,1,1,1,1,1,0,1,0,0,0,0,1,0,1,1,1,1,1,1],\n",
        "         [0,0,0,0,1,1,0,0,1,1,1,1,0,0,1,1,0,0,0,0],\n",
        "         [0,0,0,0,0,1,0,0,0,0,0,0,0,0,1,0,0,0,0,0],\n",
        "         [0,0,0,0,0,0,1,1,1,1,1,1,1,1,0,0,0,0,0,0]]\n",
        "\n",
        "plt.imshow(pedal)"
      ],
      "execution_count": 42,
      "outputs": [
        {
          "output_type": "execute_result",
          "data": {
            "text/plain": [
              "<matplotlib.image.AxesImage at 0x7f653e851be0>"
            ]
          },
          "metadata": {
            "tags": []
          },
          "execution_count": 42
        },
        {
          "output_type": "display_data",
          "data": {
            "image/png": "[encoded data removed]",
            "text/plain": [
              "<Figure size 432x288 with 1 Axes>"
            ]
          },
          "metadata": {
            "tags": []
          }
        }
      ]
    },
    {
      "cell_type": "code",
      "metadata": {
        "id": "ygXTyX5sHU5w",
        "colab_type": "code",
        "colab": {
          "base_uri": "https://localhost:8080/",
          "height": 282
        },
        "outputId": "9e748afe-788d-4b27-8cc1-a11221e1dadb"
      },
      "source": [
        "slide = [[0,0,0,1,1,1,1,1,1,1,1,1,1,1,1,1,1,0,0,0],\n",
        "         [0,0,1,0,0,0,0,0,0,0,0,0,0,0,0,0,0,1,0,0],\n",
        "         [0,0,1,0,0,1,0,0,1,0,0,1,0,0,1,0,0,1,0,0],\n",
        "         [0,0,1,0,1,1,1,0,1,0,0,1,0,0,1,0,0,1,0,0],\n",
        "         [0,0,1,0,1,1,1,0,1,0,0,1,0,1,1,1,0,1,0,0],\n",
        "         [0,0,1,0,0,1,0,0,1,0,0,1,0,1,1,1,0,1,0,0],\n",
        "         [0,0,1,0,0,1,0,0,1,0,0,1,0,0,1,0,0,1,0,0],\n",
        "         [0,0,1,0,0,1,0,0,1,0,1,1,1,0,1,0,0,1,0,0],\n",
        "         [0,0,1,0,0,1,0,0,1,0,1,1,1,0,1,0,0,1,0,0],\n",
        "         [0,0,1,0,0,1,0,0,1,0,0,1,0,0,1,0,0,1,0,0],\n",
        "         [0,0,1,0,0,1,0,1,1,1,0,1,0,0,1,0,0,1,0,0],\n",
        "         [0,1,1,0,0,1,0,1,1,1,0,1,0,0,1,0,0,1,1,0],\n",
        "         [1,1,1,0,0,1,0,0,1,0,0,1,0,0,1,0,0,1,1,1],\n",
        "         [0,1,1,0,0,1,0,0,1,0,0,1,0,0,1,0,0,1,1,0],\n",
        "         [0,0,1,0,0,0,0,0,0,0,0,0,0,0,0,0,0,1,0,0],\n",
        "         [0,0,0,1,1,1,1,1,1,1,1,1,1,1,1,1,1,0,0,0]]\n",
        "\n",
        "plt.imshow(slide)"
      ],
      "execution_count": 77,
      "outputs": [
        {
          "output_type": "execute_result",
          "data": {
            "text/plain": [
              "<matplotlib.image.AxesImage at 0x7f653db3cdd8>"
            ]
          },
          "metadata": {
            "tags": []
          },
          "execution_count": 77
        },
        {
          "output_type": "display_data",
          "data": {
            "image/png": "[encoded data removed]",
            "text/plain": [
              "<Figure size 432x288 with 1 Axes>"
            ]
          },
          "metadata": {
            "tags": []
          }
        }
      ]
    },
    {
      "cell_type": "code",
      "metadata": {
        "id": "DPqIMNcELRmg",
        "colab_type": "code",
        "colab": {
          "base_uri": "https://localhost:8080/",
          "height": 132
        },
        "outputId": "daa7fce0-2e39-4ddc-883c-8b8383ddb46a"
      },
      "source": [
        "arrow = [[0,0,0,0,0,0,0,0,0,1,1,0,0,0,0,0,0,0,0,0],\n",
        "         [0,0,0,0,0,0,0,0,1,1,1,1,0,0,0,0,0,0,0,0],\n",
        "         [0,0,0,0,0,0,0,1,1,1,1,1,1,0,0,0,0,0,0,0],\n",
        "         [0,0,0,0,0,0,1,1,1,1,1,1,1,1,0,0,0,0,0,0]]\n",
        "\n",
        "plt.imshow(arrow)"
      ],
      "execution_count": 78,
      "outputs": [
        {
          "output_type": "execute_result",
          "data": {
            "text/plain": [
              "<matplotlib.image.AxesImage at 0x7f653daf8588>"
            ]
          },
          "metadata": {
            "tags": []
          },
          "execution_count": 78
        },
        {
          "output_type": "display_data",
          "data": {
            "image/png": "[encoded data removed]",
            "text/plain": [
              "<Figure size 432x288 with 1 Axes>"
            ]
          },
          "metadata": {
            "tags": []
          }
        }
      ]
    }
  ]
}
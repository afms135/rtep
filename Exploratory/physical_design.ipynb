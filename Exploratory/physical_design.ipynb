{
 "cells": [
  {
   "cell_type": "markdown",
   "metadata": {},
   "source": [
    "# Physical Design  \n",
    "Container for inspiration for the physical look and feel of the signl device"
   ]
  },
  {
   "cell_type": "markdown",
   "metadata": {},
   "source": [
    "## Background "
   ]
  },
  {
   "cell_type": "markdown",
   "metadata": {},
   "source": [
    "### Rack Mounted units  \n",
    "\n",
    "#### Fractal Audio Axe Fx II XL\n",
    "\n",
    "Top of the line, hundreds of amps and effects, suitable for studio and stage. User-presets plus downloadable from the community.\n",
    "\n",
    "![Fractal](https://www.fractalaudio.com/wp-content/uploads/2017/11/axe-fx-ii-xl-announce-full-1024x547.jpg \"Fractal Audio Axe Fx II XL\")\n",
    "\n",
    "#### Line 6 Helix Rack\n",
    "\n",
    "Hundreds of amps and effects.\n",
    "\n",
    "![Line6](https://line6.com/helix/images/overview/models/helix-rack-sku-thumb.png \"Line 6 Helix Rack\")\n",
    "\n",
    "### Standalone Units\n",
    "\n",
    "Amp profiling only.\n",
    "\n",
    "Kemper Profiler Head\n",
    "![Kemper](https://www.kemper-amps.com/images/themes/2-1/products_head-bl-front_1280.jpg?v5 \"Kemper Profiler Head\")"
   ]
  },
  {
   "cell_type": "markdown",
   "metadata": {},
   "source": [
    "## Inspiration"
   ]
  },
  {
   "cell_type": "markdown",
   "metadata": {},
   "source": [
    "Eurorack modules often have lots of attention to physical design. E.g. Glasgow's Instrou:\n",
    "\n",
    "![instrou](https://www.instruomodular.com/wp-content/uploads/2018/04/Traigh-1.png \"Instruo tràigh\")\n",
    "\n"
   ]
  },
  {
   "cell_type": "markdown",
   "metadata": {},
   "source": [
    "## Development"
   ]
  },
  {
   "cell_type": "code",
   "execution_count": null,
   "metadata": {},
   "outputs": [],
   "source": []
  },
  {
   "cell_type": "markdown",
   "metadata": {},
   "source": [
    "## Final Design"
   ]
  },
  {
   "cell_type": "code",
   "execution_count": null,
   "metadata": {},
   "outputs": [],
   "source": []
  }
 ],
 "metadata": {
  "kernelspec": {
   "display_name": "Python 3",
   "language": "python",
   "name": "python3"
  },
  "language_info": {
   "codemirror_mode": {
    "name": "ipython",
    "version": 3
   },
   "file_extension": ".py",
   "mimetype": "text/x-python",
   "name": "python",
   "nbconvert_exporter": "python",
   "pygments_lexer": "ipython3",
   "version": "3.7.5"
  }
 },
 "nbformat": 4,
 "nbformat_minor": 4
}
